{
 "cells": [
  {
   "cell_type": "code",
   "execution_count": 1,
   "metadata": {},
   "outputs": [],
   "source": [
    "import torch\n",
    "import matplotlib.pyplot as plt\n",
    "import numpy as np \n",
    "import pickle \n",
    "import os\n",
    "import torch.nn as nn\n",
    "from torch.nn.utils.rnn import pack_padded_sequence\n",
    "from torch.autograd import Variable \n",
    "from torchvision import transforms \n",
    "from build_vocab import Vocabulary\n",
    "from model import EncoderCNN, DecoderRNN\n",
    "from PIL import Image\n",
    "from data_loader import get_loader \n",
    "from nltk.translate.bleu_score import sentence_bleu, SmoothingFunction"
   ]
  },
  {
   "cell_type": "code",
   "execution_count": 2,
   "metadata": {},
   "outputs": [],
   "source": [
    "vocabulary_path='./data/vocab.pkl'\n",
    "with open(vocabulary_path, 'rb') as f:\n",
    "    vocab = pickle.load(f)"
   ]
  },
  {
   "cell_type": "code",
   "execution_count": 4,
   "metadata": {},
   "outputs": [
    {
     "name": "stdout",
     "output_type": "stream",
     "text": [
      "loading annotations into memory...\n",
      "Done (t=0.90s)\n",
      "creating index...\n",
      "index created!\n"
     ]
    }
   ],
   "source": [
    "image_path='./data/resized2014'\n",
    "caption_img_path='./data/annotations/captions_train2014.json'\n",
    "embed_size=256\n",
    "hidden_size=512\n",
    "num_layers=1\n",
    "batch_size=128\n",
    "crop_size=224\n",
    "transform = transforms.Compose([ \n",
    "        transforms.RandomCrop(crop_size),\n",
    "        transforms.RandomHorizontalFlip(), \n",
    "        transforms.ToTensor(), \n",
    "        transforms.Normalize((0.5, 0.5, 0.5), (0.5, 0.5, 0.5))])\n",
    "data_loader = get_loader(image_path, caption_img_path, vocab,\n",
    "                         transform, batch_size,\n",
    "                         shuffle=True, num_workers=2)"
   ]
  },
  {
   "cell_type": "code",
   "execution_count": 5,
   "metadata": {},
   "outputs": [
    {
     "name": "stdout",
     "output_type": "stream",
     "text": [
      "./models/encoder-1-1000.pkl\n",
      "./models/encoder-1-2000.pkl\n",
      "./models/encoder-1-3000.pkl\n",
      "./models/encoder-2-1000.pkl\n",
      "./models/encoder-2-2000.pkl\n",
      "./models/encoder-2-3000.pkl\n",
      "./models/encoder-3-1000.pkl\n",
      "./models/encoder-3-2000.pkl\n",
      "./models/encoder-3-3000.pkl\n",
      "./models/encoder-4-1000.pkl\n",
      "./models/encoder-4-2000.pkl\n",
      "./models/encoder-4-3000.pkl\n",
      "./models/encoder-5-1000.pkl\n",
      "./models/encoder-5-2000.pkl\n",
      "./models/encoder-5-3000.pkl\n"
     ]
    }
   ],
   "source": [
    "for i in range(15):\n",
    "    encoder_path='./models/encoder-%d-%d.pkl' % (i/3+1, 1000*(i%3+1))\n",
    "    print(encoder_path)"
   ]
  },
  {
   "cell_type": "code",
   "execution_count": 6,
   "metadata": {},
   "outputs": [],
   "source": [
    "def word_list(word_idx_list, vocab):\n",
    "    \"\"\"Take a list of word ids and a vocabulary from a dataset as inputs\n",
    "    and return the corresponding words as a list.\n",
    "    \"\"\"\n",
    "    word_list = []\n",
    "    for i in range(len(word_idx_list)):\n",
    "        vocab_id = word_idx_list[i]\n",
    "        word = vocab.idx2word[vocab_id]\n",
    "#         if word == vocab.end:\n",
    "#             break\n",
    "#         if word != vocab.start:\n",
    "#             word_list.append(word)\n",
    "        word_list.append(word)\n",
    "    return word_list"
   ]
  },
  {
   "cell_type": "code",
   "execution_count": 7,
   "metadata": {},
   "outputs": [
    {
     "name": "stdout",
     "output_type": "stream",
     "text": [
      "<class 'torch.utils.data.dataloader.DataLoader'>\n"
     ]
    }
   ],
   "source": [
    "print(type(data_loader))"
   ]
  },
  {
   "cell_type": "code",
   "execution_count": 8,
   "metadata": {},
   "outputs": [
    {
     "name": "stderr",
     "output_type": "stream",
     "text": [
      "Downloading: \"https://download.pytorch.org/models/resnet152-b121ed2d.pth\" to /tmp/xdg-cache/torch/checkpoints/resnet152-b121ed2d.pth\n",
      "100%|██████████| 230M/230M [00:03<00:00, 60.7MB/s] \n"
     ]
    },
    {
     "name": "stdout",
     "output_type": "stream",
     "text": [
      "Epoch 1, Loss: 2.6417, Perplexity: 14.0367, Bleu-4: 0.0837\n",
      "Epoch 2, Loss: 2.4120, Perplexity: 11.1564, Bleu-4: 0.1532\n",
      "Epoch 3, Loss: 2.2631, Perplexity: 9.6131, Bleu-4: 0.0788\n",
      "Epoch 4, Loss: 2.0976, Perplexity: 8.1468, Bleu-4: 0.1179\n",
      "Epoch 5, Loss: 2.0762, Perplexity: 7.9744, Bleu-4: 0.1340\n",
      "Epoch 6, Loss: 1.9839, Perplexity: 7.2708, Bleu-4: 0.1330\n",
      "Epoch 7, Loss: 2.0264, Perplexity: 7.5870, Bleu-4: 0.1167\n",
      "Epoch 8, Loss: 2.0963, Perplexity: 8.1358, Bleu-4: 0.0860\n",
      "Epoch 9, Loss: 1.7927, Perplexity: 6.0057, Bleu-4: 0.1826\n",
      "Epoch 10, Loss: 1.8114, Perplexity: 6.1192, Bleu-4: 0.1003\n",
      "Epoch 11, Loss: 1.8498, Perplexity: 6.3587, Bleu-4: 0.1644\n",
      "Epoch 12, Loss: 1.8580, Perplexity: 6.4112, Bleu-4: 0.0933\n",
      "Epoch 13, Loss: 1.8508, Perplexity: 6.3646, Bleu-4: 0.1212\n",
      "Epoch 14, Loss: 1.7737, Perplexity: 5.8925, Bleu-4: 0.1041\n",
      "Epoch 15, Loss: 1.8782, Perplexity: 6.5415, Bleu-4: 0.1286\n"
     ]
    }
   ],
   "source": [
    "loss_data=[]\n",
    "perp_data=[]\n",
    "bleu4_data = []\n",
    "\n",
    "# Initialize smoothing function\n",
    "smoothing = SmoothingFunction()\n",
    "\n",
    "start_bleu = 0.0\n",
    "total_bleu_4 = start_bleu\n",
    "\n",
    "with torch.no_grad():\n",
    "    for i, (images, captions, lengths) in enumerate(data_loader):\n",
    "        if i>=15:\n",
    "            break\n",
    "        encoder = EncoderCNN(embed_size)\n",
    "        encoder.eval()  # encoder evaluation mode\n",
    "        decoder = DecoderRNN(embed_size, hidden_size, len(vocab), num_layers)\n",
    "        decoder.eval()  # decoder evaluation mode\n",
    "        encoder_path='./models/encoder-%d-%d.pkl' % (i/3+1, 1000*(i%3+1))\n",
    "        decoder_path='./models/decoder-%d-%d.pkl' % (i/3+1, 1000*(i%3+1))\n",
    "        encoder.load_state_dict(torch.load(encoder_path))\n",
    "        decoder.load_state_dict(torch.load(decoder_path))\n",
    "        criterion = nn.CrossEntropyLoss()\n",
    "\n",
    "        if torch.cuda.is_available():\n",
    "            images = images.cuda()\n",
    "            captions = captions.cuda()\n",
    "            encoder.cuda()\n",
    "            decoder.cuda()\n",
    "        targets = pack_padded_sequence(captions, lengths, batch_first=True)[0]\n",
    "\n",
    "        features = encoder(images)\n",
    "        outputs = decoder(features, captions, lengths)\n",
    "        loss = criterion(outputs, targets)\n",
    "        loss_data.append(loss.data)\n",
    "        perp_data.append(np.exp(loss.data.cpu()))\n",
    "\n",
    "        # Calculate the total Bleu-4 score for the batch\n",
    "        batch_bleu_4 = 0.0\n",
    "        # Iterate over outputs. Note: outputs[i] is a caption in the batch\n",
    "        # outputs[i, j, k] contains the model's predicted score i.e. how\n",
    "        # likely the j-th token in the i-th caption in the batch is the\n",
    "        # k-th token in the vocabulary.\n",
    "    #     print(outputs)\n",
    "    #     print(captions)\n",
    "        for j in range(0,128):\n",
    "            predicted_ids = []\n",
    "            for scores in outputs[j]:\n",
    "                # Find the index of the token that has the max score\n",
    "                predicted_ids.append(scores.argmax().item())\n",
    "            # Convert word ids to actual words\n",
    "            predicted_word_list = word_list(predicted_ids, vocab)\n",
    "    #         print(j)\n",
    "            caption_word_list = word_list(captions[j].cpu().numpy(), vocab)\n",
    "    #         print(predicted_word_list)\n",
    "    #         print(caption_word_list)\n",
    "            # Calculate Bleu-4 score and append it to the batch_bleu_4 list\n",
    "            batch_bleu_4 += sentence_bleu([caption_word_list],\n",
    "                                          predicted_word_list,\n",
    "                                          smoothing_function=smoothing.method1)\n",
    "        total_bleu_4 += batch_bleu_4 / 20\n",
    "        bleu4_data.append(batch_bleu_4)\n",
    "        print('Epoch %d, Loss: %.4f, Perplexity: %5.4f, Bleu-4: %.4f' %(i+1, loss.data, np.exp(loss.data.cpu())\n",
    "                                                          , batch_bleu_4))"
   ]
  },
  {
   "cell_type": "code",
   "execution_count": 13,
   "metadata": {},
   "outputs": [],
   "source": [
    "import matplotlib.pyplot as plt"
   ]
  },
  {
   "cell_type": "code",
   "execution_count": 19,
   "metadata": {},
   "outputs": [
    {
     "data": {
      "image/png": "[encoded data removed]",
      "text/plain": [
       "<Figure size 432x288 with 1 Axes>"
      ]
     },
     "metadata": {
      "needs_background": "light"
     },
     "output_type": "display_data"
    }
   ],
   "source": [
    "epoch = [1,2,3,4,5,6,7,8,9,10,11,12,13,14,15]\n",
    "plt.ylabel('BLEU_4')\n",
    "plt.xlabel(\"Epoch\")\n",
    "plt.ylim(-0.5, 0.5)\n",
    "plt.plot(epoch, bleu4_data, color='red', marker='o', linestyle='solid')\n",
    "plt.title('The changes of BLEU_4 Score')\n",
    "plt.show()"
   ]
  },
  {
   "cell_type": "code",
   "execution_count": 20,
   "metadata": {},
   "outputs": [
    {
     "data": {
      "image/png": "[encoded data removed]",
      "text/plain": [
       "<Figure size 432x288 with 1 Axes>"
      ]
     },
     "metadata": {
      "needs_background": "light"
     },
     "output_type": "display_data"
    }
   ],
   "source": [
    "plt.ylabel('LOSS')\n",
    "plt.xlabel(\"Epoch\")\n",
    "plt.ylim(1, 3)\n",
    "plt.plot(epoch, loss_data, color='red', marker='o', linestyle='solid')\n",
    "plt.title('The changes of LOSS Value')\n",
    "plt.show()"
   ]
  },
  {
   "cell_type": "markdown",
   "metadata": {},
   "source": [
    "## Reference\n",
    "[TensorFlow Implementation of show and tell] (https://github.com/nikhilmaram/Show_and_Tell)\n",
    "[Show and Tell: A Neural Image Caption Generator] (https://arxiv.org/pdf/1411.4555.pdf)\n",
    "[PyTorch Implementation of show and tell] (https://github.com/ntrang086/image_captioning)"
   ]
  },
  {
   "cell_type": "code",
   "execution_count": null,
   "metadata": {},
   "outputs": [],
   "source": []
  }
 ],
 "metadata": {
  "kernelspec": {
   "display_name": "Python 3",
   "language": "python",
   "name": "python3"
  },
  "language_info": {
   "codemirror_mode": {
    "name": "ipython",
    "version": 3
   },
   "file_extension": ".py",
   "mimetype": "text/x-python",
   "name": "python",
   "nbconvert_exporter": "python",
   "pygments_lexer": "ipython3",
   "version": "3.7.3"
  }
 },
 "nbformat": 4,
 "nbformat_minor": 2
}
